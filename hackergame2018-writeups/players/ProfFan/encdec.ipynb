{
 "cells": [
  {
   "cell_type": "code",
   "execution_count": 126,
   "metadata": {},
   "outputs": [],
   "source": [
    "import numpy as np\n",
    "import numpy.matrixlib"
   ]
  },
  {
   "cell_type": "code",
   "execution_count": 3,
   "metadata": {},
   "outputs": [],
   "source": [
    "s = np.asarray([\n",
    "[25,52,29,88,38,86,39,26,80,47],\n",
    "[71,73,88,35,25,69,84,45,59,87],\n",
    "[42,46,71,77,69,56,79,59,45,52],\n",
    "[63,60,41,61,46,51,57,79,72,68],\n",
    "[49,37,68,45,71,42,32,56,43,64],\n",
    "[23,29,34,89,39,49,24,78,66,83],\n",
    "[64,60,47,32,70,80,43,43,52,59],\n",
    "[75,81,40,69,25,82,84,47,69,27],\n",
    "[20,70,56,31,61,76,35,67,25,45],\n",
    "[83,75,47,58,40,23,73,52,70,86]\n",
    "])"
   ]
  },
  {
   "cell_type": "code",
   "execution_count": 19,
   "metadata": {},
   "outputs": [
    {
     "data": {
      "text/plain": [
       "array([[25, 52, 29, 88, 38, 86, 39, 26, 80, 47],\n",
       "       [71, 73, 88, 35, 25, 69, 84, 45, 59, 87],\n",
       "       [42, 46, 71, 77, 69, 56, 79, 59, 45, 52],\n",
       "       [63, 60, 41, 61, 46, 51, 57, 79, 72, 68],\n",
       "       [49, 37, 68, 45, 71, 42, 32, 56, 43, 64],\n",
       "       [23, 29, 34, 89, 39, 49, 24, 78, 66, 83],\n",
       "       [64, 60, 47, 32, 70, 80, 43, 43, 52, 59],\n",
       "       [75, 81, 40, 69, 25, 82, 84, 47, 69, 27],\n",
       "       [20, 70, 56, 31, 61, 76, 35, 67, 25, 45],\n",
       "       [83, 75, 47, 58, 40, 23, 73, 52, 70, 86]])"
      ]
     },
     "execution_count": 19,
     "metadata": {},
     "output_type": "execute_result"
    }
   ],
   "source": [
    "s"
   ]
  },
  {
   "cell_type": "code",
   "execution_count": 6,
   "metadata": {},
   "outputs": [
    {
     "data": {
      "text/plain": [
       "array([[23, 46, 21, 80, 35, 81, 34, 19, 76, 38],\n",
       "       [69, 67, 80, 27, 22, 64, 79, 38, 55, 78],\n",
       "       [40, 40, 63, 69, 66, 51, 74, 52, 41, 43],\n",
       "       [61, 54, 33, 53, 43, 46, 52, 72, 68, 59],\n",
       "       [47, 31, 60, 37, 68, 37, 27, 49, 39, 55],\n",
       "       [21, 23, 26, 81, 36, 44, 19, 71, 62, 74],\n",
       "       [62, 54, 39, 24, 67, 75, 38, 36, 48, 50],\n",
       "       [73, 75, 32, 61, 22, 77, 79, 40, 65, 18],\n",
       "       [18, 64, 48, 23, 58, 71, 30, 60, 21, 36],\n",
       "       [81, 69, 39, 50, 37, 18, 68, 45, 66, 77]])"
      ]
     },
     "execution_count": 6,
     "metadata": {},
     "output_type": "execute_result"
    }
   ],
   "source": [
    "A = s - np.asarray([2,6,8,8,3,5,5,7,4,9])\n",
    "A"
   ]
  },
  {
   "cell_type": "code",
   "execution_count": 157,
   "metadata": {},
   "outputs": [
    {
     "data": {
      "text/plain": [
       "matrix([[ 7320],\n",
       "        [ 8006],\n",
       "        [ 6857],\n",
       "        [10434],\n",
       "        [ 6629],\n",
       "        [ 8992],\n",
       "        [ 7584],\n",
       "        [ 9133],\n",
       "        [ 9975],\n",
       "        [10396]])"
      ]
     },
     "execution_count": 157,
     "metadata": {},
     "output_type": "execute_result"
    }
   ],
   "source": [
    "g = np.matrix(A).T * np.asarray([[16,20,8, 2, 10, 63, 1, 17, 14, 22]]).T\n",
    "\n",
    "g"
   ]
  },
  {
   "cell_type": "code",
   "execution_count": 96,
   "metadata": {},
   "outputs": [
    {
     "data": {
      "text/plain": [
       "array([[24,  6,  9,  2, 37, 32, 32, 45, 55, 28]])"
      ]
     },
     "execution_count": 96,
     "metadata": {},
     "output_type": "execute_result"
    }
   ],
   "source": [
    "res = np.asarray([[26, 12, 17, 10, 40, 37, 37, 52, 59, 37]])-np.asarray([2,6,8,8,3,5,5,7,4,9])\n",
    "res"
   ]
  },
  {
   "cell_type": "code",
   "execution_count": 87,
   "metadata": {},
   "outputs": [
    {
     "data": {
      "text/plain": [
       "array([[23, 46, 21, 80, 35, 81, 34, 19, 76, 38],\n",
       "       [69, 67, 80, 27, 22, 64, 79, 38, 55, 78],\n",
       "       [40, 40, 63, 69, 66, 51, 74, 52, 41, 43],\n",
       "       [61, 54, 33, 53, 43, 46, 52, 72, 68, 59],\n",
       "       [47, 31, 60, 37, 68, 37, 27, 49, 39, 55],\n",
       "       [21, 23, 26, 81, 36, 44, 19, 71, 62, 74],\n",
       "       [62, 54, 39, 24, 67, 75, 38, 36, 48, 50],\n",
       "       [73, 75, 32, 61, 22, 77, 79, 40, 65, 18],\n",
       "       [18, 64, 48, 23, 58, 71, 30, 60, 21, 36],\n",
       "       [81, 69, 39, 50, 37, 18, 68, 45, 66, 77],\n",
       "       [64, 64, 64, 64, 64, 64, 64, 64, 64, 64],\n",
       "       [24,  6,  9,  2, 37, 32, 32, 45, 55, 28]])"
      ]
     },
     "execution_count": 87,
     "metadata": {},
     "output_type": "execute_result"
    }
   ],
   "source": [
    "sol = np.vstack((A,np.asarray([[64, 64, 64, 64, 64, 64, 64, 64, 64, 64]]),res))\n",
    "sol"
   ]
  },
  {
   "cell_type": "code",
   "execution_count": 88,
   "metadata": {},
   "outputs": [],
   "source": [
    "S = np.matrix(sol.T)"
   ]
  },
  {
   "cell_type": "code",
   "execution_count": 89,
   "metadata": {},
   "outputs": [
    {
     "data": {
      "text/plain": [
       "matrix([[23, 69, 40, 61, 47, 21, 62, 73, 18, 81, 64, 24],\n",
       "        [46, 67, 40, 54, 31, 23, 54, 75, 64, 69, 64,  6],\n",
       "        [21, 80, 63, 33, 60, 26, 39, 32, 48, 39, 64,  9],\n",
       "        [80, 27, 69, 53, 37, 81, 24, 61, 23, 50, 64,  2],\n",
       "        [35, 22, 66, 43, 68, 36, 67, 22, 58, 37, 64, 37],\n",
       "        [81, 64, 51, 46, 37, 44, 75, 77, 71, 18, 64, 32],\n",
       "        [34, 79, 74, 52, 27, 19, 38, 79, 30, 68, 64, 32],\n",
       "        [19, 38, 52, 72, 49, 71, 36, 40, 60, 45, 64, 45],\n",
       "        [76, 55, 41, 68, 39, 62, 48, 65, 21, 66, 64, 55],\n",
       "        [38, 78, 43, 59, 55, 74, 50, 18, 36, 77, 64, 28]])"
      ]
     },
     "execution_count": 89,
     "metadata": {},
     "output_type": "execute_result"
    }
   ],
   "source": [
    "S"
   ]
  },
  {
   "cell_type": "code",
   "execution_count": 90,
   "metadata": {},
   "outputs": [],
   "source": [
    "import sympy"
   ]
  },
  {
   "cell_type": "code",
   "execution_count": 91,
   "metadata": {},
   "outputs": [
    {
     "data": {
      "text/plain": [
       "(Matrix([\n",
       " [1, 0, 0, 0, 0, 0, 0, 0, 0, 0,   3223585386717184/37486410700520489,    26554818219439376/37486410700520489],\n",
       " [0, 1, 0, 0, 0, 0, 0, 0, 0, 0,  7789806131569856/112459232101561467,   39382330405348252/112459232101561467],\n",
       " [0, 0, 1, 0, 0, 0, 0, 0, 0, 0,   6097218628108800/37486410700520489,    21864881480382792/37486410700520489],\n",
       " [0, 0, 0, 1, 0, 0, 0, 0, 0, 0, 12624624409176064/112459232101561467,  398323373405194550/112459232101561467],\n",
       " [0, 0, 0, 0, 1, 0, 0, 0, 0, 0,  16705835710445120/37486410700520489,   -28293908536550758/37486410700520489],\n",
       " [0, 0, 0, 0, 0, 1, 0, 0, 0, 0,  2927099250233728/112459232101561467, -153073744123573627/112459232101561467],\n",
       " [0, 0, 0, 0, 0, 0, 1, 0, 0, 0, -7961833319839424/112459232101561467,   36668192901001403/112459232101561467],\n",
       " [0, 0, 0, 0, 0, 0, 0, 1, 0, 0,   6854385671948608/37486410700520489,   -56794439400334599/37486410700520489],\n",
       " [0, 0, 0, 0, 0, 0, 0, 0, 1, 0, 16368810055458176/112459232101561467,  -63632710139903558/112459232101561467],\n",
       " [0, 0, 0, 0, 0, 0, 0, 0, 0, 1,   5006548224908288/37486410700520489,   -42214899005998010/37486410700520489]]),\n",
       " (0, 1, 2, 3, 4, 5, 6, 7, 8, 9))"
      ]
     },
     "execution_count": 91,
     "metadata": {},
     "output_type": "execute_result"
    }
   ],
   "source": [
    "sympy.Matrix(S).rref()"
   ]
  },
  {
   "cell_type": "code",
   "execution_count": 94,
   "metadata": {},
   "outputs": [
    {
     "data": {
      "text/plain": [
       "162"
      ]
     },
     "execution_count": 94,
     "metadata": {},
     "output_type": "execute_result"
    }
   ],
   "source": [
    "112459232101561467 % 255"
   ]
  },
  {
   "cell_type": "code",
   "execution_count": 95,
   "metadata": {},
   "outputs": [
    {
     "data": {
      "text/plain": [
       "142"
      ]
     },
     "execution_count": 95,
     "metadata": {},
     "output_type": "execute_result"
    }
   ],
   "source": [
    "39382330405348252 % 255"
   ]
  },
  {
   "cell_type": "code",
   "execution_count": 115,
   "metadata": {},
   "outputs": [
    {
     "data": {
      "text/plain": [
       "(154, 76, 209, 202, 232, 37, 165, 180, 251, 165)"
      ]
     },
     "execution_count": 115,
     "metadata": {},
     "output_type": "execute_result"
    }
   ],
   "source": [
    "154,76,209,202,232,37,165,180,251,165"
   ]
  },
  {
   "cell_type": "code",
   "execution_count": 119,
   "metadata": {},
   "outputs": [
    {
     "data": {
      "text/plain": [
       "array([[ 7, 45,  9, 13, 12, 29, 16, 34, 38, 31]])"
      ]
     },
     "execution_count": 119,
     "metadata": {},
     "output_type": "execute_result"
    }
   ],
   "source": [
    "target = np.asarray([[9,51,17,21,15,34,21,41,42,40]]) - np.asarray([[2,6,8,8,3,5,5,7,4,9]])\n",
    "target"
   ]
  },
  {
   "cell_type": "code",
   "execution_count": 117,
   "metadata": {},
   "outputs": [
    {
     "data": {
      "text/plain": [
       "(1, 10)"
      ]
     },
     "execution_count": 117,
     "metadata": {},
     "output_type": "execute_result"
    }
   ],
   "source": [
    "target.shape"
   ]
  },
  {
   "cell_type": "code",
   "execution_count": 128,
   "metadata": {},
   "outputs": [
    {
     "data": {
      "text/plain": [
       "matrix([[23, 69, 40, 61, 47, 21, 62, 73, 18, 81],\n",
       "        [46, 67, 40, 54, 31, 23, 54, 75, 64, 69],\n",
       "        [21, 80, 63, 33, 60, 26, 39, 32, 48, 39],\n",
       "        [80, 27, 69, 53, 37, 81, 24, 61, 23, 50],\n",
       "        [35, 22, 66, 43, 68, 36, 67, 22, 58, 37],\n",
       "        [81, 64, 51, 46, 37, 44, 75, 77, 71, 18],\n",
       "        [34, 79, 74, 52, 27, 19, 38, 79, 30, 68],\n",
       "        [19, 38, 52, 72, 49, 71, 36, 40, 60, 45],\n",
       "        [76, 55, 41, 68, 39, 62, 48, 65, 21, 66],\n",
       "        [38, 78, 43, 59, 55, 74, 50, 18, 36, 77]])"
      ]
     },
     "execution_count": 128,
     "metadata": {},
     "output_type": "execute_result"
    }
   ],
   "source": [
    "P=np.matrix(A).T\n",
    "P"
   ]
  },
  {
   "cell_type": "code",
   "execution_count": 159,
   "metadata": {},
   "outputs": [],
   "source": [
    "#print(\"A:\",np.sum(np.linalg.inv(P)*(g % 64 + 64 * i) % 1))\n",
    "\n",
    "from sympy import Matrix, pprint\n"
   ]
  },
  {
   "cell_type": "code",
   "execution_count": 160,
   "metadata": {},
   "outputs": [
    {
     "data": {
      "text/plain": [
       "Matrix([\n",
       "[23, 69, 40, 61, 47, 21, 62, 73, 18, 81],\n",
       "[46, 67, 40, 54, 31, 23, 54, 75, 64, 69],\n",
       "[21, 80, 63, 33, 60, 26, 39, 32, 48, 39],\n",
       "[80, 27, 69, 53, 37, 81, 24, 61, 23, 50],\n",
       "[35, 22, 66, 43, 68, 36, 67, 22, 58, 37],\n",
       "[81, 64, 51, 46, 37, 44, 75, 77, 71, 18],\n",
       "[34, 79, 74, 52, 27, 19, 38, 79, 30, 68],\n",
       "[19, 38, 52, 72, 49, 71, 36, 40, 60, 45],\n",
       "[76, 55, 41, 68, 39, 62, 48, 65, 21, 66],\n",
       "[38, 78, 43, 59, 55, 74, 50, 18, 36, 77]])"
      ]
     },
     "execution_count": 160,
     "metadata": {},
     "output_type": "execute_result"
    }
   ],
   "source": [
    "A_sp = Matrix(P)\n",
    "A_sp"
   ]
  },
  {
   "cell_type": "code",
   "execution_count": 163,
   "metadata": {},
   "outputs": [
    {
     "data": {
      "text/plain": [
       "Matrix([\n",
       "[ 2,  0, 29, 41, 27, 26, 14,  3, 25, 25],\n",
       "[17, 20,  3, 63, 24, 55, 31, 53, 26, 37],\n",
       "[34, 38, 25, 22, 11, 52, 12, 16,  8, 46],\n",
       "[57, 43, 25, 19, 11, 10, 60, 51, 57, 19],\n",
       "[17, 56, 32, 49,  2, 10, 47, 53, 51, 52],\n",
       "[45, 29, 57, 32, 15, 54, 44, 11, 30, 53],\n",
       "[15, 34, 22,  4, 57, 32, 53, 48, 62, 24],\n",
       "[61, 41,  4, 22,  9, 37, 41, 35, 17, 18],\n",
       "[45, 29, 32, 40, 36, 52, 19, 49, 53, 31],\n",
       "[24, 61, 52, 18,  4, 28, 13, 28,  0, 12]])"
      ]
     },
     "execution_count": 163,
     "metadata": {},
     "output_type": "execute_result"
    }
   ],
   "source": [
    "A_inv = A_sp.inv_mod(64)\n",
    "A_inv"
   ]
  },
  {
   "cell_type": "code",
   "execution_count": 221,
   "metadata": {},
   "outputs": [],
   "source": [
    "ans_s = (A_inv * Matrix((target-bias).T)).T"
   ]
  },
  {
   "cell_type": "code",
   "execution_count": 222,
   "metadata": {},
   "outputs": [
    {
     "data": {
      "text/plain": [
       "array([43, 62, 48, 53, 45, 33, 62, 53, 52, 49])"
      ]
     },
     "execution_count": 222,
     "metadata": {},
     "output_type": "execute_result"
    }
   ],
   "source": [
    "ans = (np.asarray(ans_s.tolist(),dtype=np.int).T % 64 ).flatten()\n",
    "ans"
   ]
  },
  {
   "cell_type": "code",
   "execution_count": 223,
   "metadata": {},
   "outputs": [],
   "source": [
    "mp = \"ABCDEFGHIJKLMNOPQRSTUVWXYZabcdefghijklmnopqrstuvwxyz0123456789-_\""
   ]
  },
  {
   "cell_type": "code",
   "execution_count": 224,
   "metadata": {},
   "outputs": [
    {
     "name": "stdout",
     "output_type": "stream",
     "text": [
      "r-w1th-10x"
     ]
    }
   ],
   "source": [
    "for i in ans:\n",
    "    print(mp[i], end=\"\")"
   ]
  },
  {
   "cell_type": "code",
   "execution_count": 219,
   "metadata": {},
   "outputs": [
    {
     "ename": "SyntaxError",
     "evalue": "invalid token (<ipython-input-219-c179188ea03a>, line 1)",
     "output_type": "error",
     "traceback": [
      "\u001b[0;36m  File \u001b[0;32m\"<ipython-input-219-c179188ea03a>\"\u001b[0;36m, line \u001b[0;32m1\u001b[0m\n\u001b[0;31m    30 08 44 56 31 31 56 03 10 30 06 55 04 12 10 34 33 51 46 07\u001b[0m\n\u001b[0m        ^\u001b[0m\n\u001b[0;31mSyntaxError\u001b[0m\u001b[0;31m:\u001b[0m invalid token\n"
     ]
    }
   ],
   "source": [
    " "
   ]
  },
  {
   "cell_type": "code",
   "execution_count": 220,
   "metadata": {},
   "outputs": [],
   "source": [
    "bias = np.asarray([[2,6,8,8,3,5,5,7,4,9]])"
   ]
  },
  {
   "cell_type": "code",
   "execution_count": 214,
   "metadata": {},
   "outputs": [],
   "source": []
  },
  {
   "cell_type": "code",
   "execution_count": 229,
   "metadata": {},
   "outputs": [
    {
     "name": "stdout",
     "output_type": "stream",
     "text": [
      "h1ll-c1ph3"
     ]
    }
   ],
   "source": [
    "target = np.asarray([[9,51,17,21,15,34,21,41,42,40]])\n",
    "ans_s = (A_inv * Matrix((target-bias).T)).T\n",
    "ans = (np.asarray(ans_s.tolist(),dtype=np.int).T % 64 ).flatten()\n",
    "mp = \"ABCDEFGHIJKLMNOPQRSTUVWXYZabcdefghijklmnopqrstuvwxyz0123456789-_\"\n",
    "for i in ans:\n",
    "    print(mp[i], end=\"\")"
   ]
  },
  {
   "cell_type": "code",
   "execution_count": 231,
   "metadata": {},
   "outputs": [
    {
     "name": "stdout",
     "output_type": "stream",
     "text": [
      "r-w1th-10x"
     ]
    }
   ],
   "source": [
    "target = np.asarray([[56,34,3,12,60,28,30,37,50,46]])\n",
    "ans_s = (A_inv * Matrix((target-bias).T)).T\n",
    "ans = (np.asarray(ans_s.tolist(),dtype=np.int).T % 64 ).flatten()\n",
    "mp = \"ABCDEFGHIJKLMNOPQRSTUVWXYZabcdefghijklmnopqrstuvwxyz0123456789-_\"\n",
    "for i in ans:\n",
    "    print(mp[i], end=\"\")"
   ]
  },
  {
   "cell_type": "code",
   "execution_count": 228,
   "metadata": {},
   "outputs": [
    {
     "name": "stdout",
     "output_type": "stream",
     "text": [
      "10-r3v3rs1"
     ]
    }
   ],
   "source": [
    "target = np.matrix([[30,8,44,56,31,31,56,3,10,30]])\n",
    "ans_s = (A_inv * Matrix((target-bias).T)).T\n",
    "ans = (np.asarray(ans_s.tolist(),dtype=np.int).T % 64 ).flatten()\n",
    "mp = \"ABCDEFGHIJKLMNOPQRSTUVWXYZabcdefghijklmnopqrstuvwxyz0123456789-_\"\n",
    "for i in ans:\n",
    "    print(mp[i], end=\"\")"
   ]
  },
  {
   "cell_type": "code",
   "execution_count": 230,
   "metadata": {},
   "outputs": [
    {
     "name": "stdout",
     "output_type": "stream",
     "text": [
      "bl3-matr1x"
     ]
    }
   ],
   "source": [
    "target = np.asarray([[6,55,4,12,10,34,33,51,46,7]])\n",
    "ans_s = (A_inv * Matrix((target-bias).T)).T\n",
    "ans = (np.asarray(ans_s.tolist(),dtype=np.int).T % 64 ).flatten()\n",
    "mp = \"ABCDEFGHIJKLMNOPQRSTUVWXYZabcdefghijklmnopqrstuvwxyz0123456789-_\"\n",
    "for i in ans:\n",
    "    print(mp[i], end=\"\")"
   ]
  },
  {
   "cell_type": "code",
   "execution_count": null,
   "metadata": {},
   "outputs": [],
   "source": []
  }
 ],
 "metadata": {
  "kernelspec": {
   "display_name": "Python 3",
   "language": "python",
   "name": "python3"
  },
  "language_info": {
   "codemirror_mode": {
    "name": "ipython",
    "version": 3
   },
   "file_extension": ".py",
   "mimetype": "text/x-python",
   "name": "python",
   "nbconvert_exporter": "python",
   "pygments_lexer": "ipython3",
   "version": "3.7.0"
  }
 },
 "nbformat": 4,
 "nbformat_minor": 2
}
